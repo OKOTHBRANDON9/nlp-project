{
 "cells": [
  {
   "cell_type": "code",
   "execution_count": 1,
   "id": "6aab6f82",
   "metadata": {},
   "outputs": [
    {
     "name": "stdout",
     "output_type": "stream",
     "text": [
      "Requirement already satisfied: nltk in c:\\users\\bill\\anaconda3\\lib\\site-packages (3.7)\n",
      "Requirement already satisfied: regex>=2021.8.3 in c:\\users\\bill\\anaconda3\\lib\\site-packages (from nltk) (2022.7.9)\n",
      "Requirement already satisfied: click in c:\\users\\bill\\anaconda3\\lib\\site-packages (from nltk) (8.0.4)\n",
      "Requirement already satisfied: tqdm in c:\\users\\bill\\anaconda3\\lib\\site-packages (from nltk) (4.64.1)\n",
      "Requirement already satisfied: joblib in c:\\users\\bill\\anaconda3\\lib\\site-packages (from nltk) (1.1.0)\n",
      "Requirement already satisfied: colorama in c:\\users\\bill\\anaconda3\\lib\\site-packages (from click->nltk) (0.4.6)\n",
      "Note: you may need to restart the kernel to use updated packages.\n"
     ]
    }
   ],
   "source": [
    "pip install nltk"
   ]
  },
  {
   "cell_type": "code",
   "execution_count": 2,
   "id": "851fed05",
   "metadata": {},
   "outputs": [],
   "source": [
    "import nltk"
   ]
  },
  {
   "cell_type": "code",
   "execution_count": 5,
   "id": "25fdcee3",
   "metadata": {},
   "outputs": [],
   "source": [
    "import nltk\n",
    "import numpy as np\n",
    "import random\n",
    "import string\n",
    "from nltk.classify import NaiveBayesClassifier\n",
    "from nltk.classify.util import accuracy\n",
    "\n",
    "# Import and download stopwords from NLTK\n",
    "stop_words = [\n",
    "    'na', 'ya', 'kwa', 'za', 'ni',  'kuwa',]\n",
    "\n",
    "# Import and load the data\n",
    "with open('SwahiliData.txt', 'r', encoding='utf-8') as file:\n",
    "    text = file.read()\n",
    "\n",
    "sentences = text.split('\\n')\n",
    "random.shuffle(sentences)\n",
    "\n",
    "# Tokenizing a sentence\n",
    "def tokenize_sentence(sentence):\n",
    "    return nltk.word_tokenize(sentence.lower())\n",
    "\n",
    "# removing stopwords\n",
    "def remove_stopwords(sentence_tokens):\n",
    "    return [word for word in sentence_tokens if word not in stop_words]\n",
    "\n",
    "# Removing panctuation\n",
    "def remove_punctuation(sentence_tokens):\n",
    "    return [word for word in sentence_tokens if word not in string.punctuation]\n",
    "\n",
    "#  preprocessing a sentence\n",
    "def preprocess_sentence(sentence):\n",
    "    sentence_tokens = tokenize_sentence(sentence)\n",
    "    sentence_tokens = remove_stopwords(sentence_tokens)\n",
    "    sentence_tokens = remove_punctuation(sentence_tokens)\n",
    "    return sentence_tokens\n"
   ]
  },
  {
   "cell_type": "code",
   "execution_count": 6,
   "id": "279bc507",
   "metadata": {},
   "outputs": [],
   "source": [
    "def extract_features(text):\n",
    "    # Tokenizing \n",
    "    words = nltk.word_tokenize(text.lower())\n",
    "\n",
    "    # # Removing stop words and lemmatizing\n",
    "     stop_words = [\n",
    "    'na', 'ya', 'kwa', 'za', 'ni',  'kuwa', ]\n",
    "        \n",
    "    lemmatizer = nltk.stem.WordNetLemmatizer()\n",
    "    filtered_words = [lemmatizer.lemmatize(word) for word in words if word not in stop_words]\n",
    "\n",
    "    # Calculate word frequency\n",
    "    word_freq = nltk.FreqDist(filtered_words)\n",
    "\n",
    "    # Return the feature dictionary\n",
    "    features = {\n",
    "        'word_freq': word_freq,\n",
    "    }\n",
    "    return features\n",
    "with open('SwahiliData', 'r', encoding='utf8') as file:\n",
    "    dataset = []\n",
    "    for line in file:\n",
    "        text, label = line.strip().split('\\t')\n",
    "        dataset.append((extract_features(text), label))\n",
    "\n",
    "# Split the dataset into training and testing sets\n",
    "train_data = dataset[:800]\n",
    "test_data = dataset[800:]\n",
    "\n",
    "# Train a Naive Bayes classifier\n",
    "classifier = NaiveBayesClassifier.train(train_data)\n",
    "\n",
    "# Evaluate the classifier on the testing set\n",
    "print('Accuracy:', accuracy(classifier, test_data))"
   ]
  },
  {
   "cell_type": "code",
   "execution_count": 9,
   "id": "1ea58c9a",
   "metadata": {},
   "outputs": [],
   "source": [
    "create_doc_embedding(text):\n",
    "    \n",
    "    words = text.split()\n",
    "\n",
    "    word_embeddings = np.zeros((len(words), 300))\n",
    "\n",
    "    for i, word in enumerate(words):\n",
    "        if word in swahili_model.vocab:\n",
    "            word_embeddings[i] = swahili_model[word]\n",
    "\n",
    "            doc_embedding = np.mean(word_embeddings, axis=0)\n",
    "    return doc_embedding\n",
    "\n",
    "# Document embedding\n",
    "embedding = create_doc_embedding(preprocessed_text)\n",
    "print(embedding)"
   ]
  },
  {
   "cell_type": "code",
   "execution_count": 10,
   "id": "2b6f45c3",
   "metadata": {},
   "outputs": [],
   "source": [
    "# creating a bag of words from a sentence\n",
    "def bag_of_words(sentence_tokens, all_words):\n",
    "    sentence_tokens = set(sentence_tokens)\n",
    "    bag = [1 if word in sentence_tokens else 0 for word in all_words]\n",
    "    return bag"
   ]
  },
  {
   "cell_type": "code",
   "execution_count": null,
   "id": "1df94846",
   "metadata": {},
   "outputs": [
    {
     "name": "stdout",
     "output_type": "stream",
     "text": [
      "Chatbot: Habari, mimi ni chatbot. Unaweza kuniuliza maswali yoyote kuhusu Kilimo.\n"
     ]
    }
   ],
   "source": [
    "\n",
    "# function to get a response from the chatbot\n",
    "def get_response(intents, intents_list, all_words, model, sentence):\n",
    "    sentence_tokens = preprocess_sentence(sentence)\n",
    "    bag = bag_of_words(sentence_tokens, all_words)\n",
    "    prediction = model.predict(np.array([bag]))[0]\n",
    "    intent = intents_list[prediction]\n",
    "    for i in intents['intents']:\n",
    "        if i['tag'] == intent:\n",
    "            response = random.choice(i['responses'])\n",
    "            return response\n",
    "\n",
    "# function to greet user\n",
    "def greet(sentence):\n",
    "    for word in sentence.split():\n",
    "        if word.lower() in GREETING_INPUTS:\n",
    "            return random.choice(GREETING_RESPONSES)\n",
    "\n",
    "# Define constants for the greeting\n",
    "GREETING_INPUTS = ['Habari', 'mambo', 'jambo','Asalamaleikum','vipi']\n",
    "GREETING_RESPONSES = ['habari!', 'salamu!', 'mambo!', 'jambo!', 'vipi!']\n",
    "\n",
    "#chatbot\n",
    "def chatbot():\n",
    "    # Training the model\n",
    "    all_words = []\n",
    "    intents = {'intents': []}\n",
    "    for sentence in sentences:\n",
    "        words = preprocess_sentence(sentence)\n",
    "        all_words += words\n",
    "        tag = sentence.split()[-1]\n",
    "        for i in intents['intents']:\n",
    "            if i['tag'] == tag:\n",
    "                i['patterns'].append(' '.join(sentence.split()[:-1]))\n",
    "                break\n",
    "        else:\n",
    "            intent = {'tag': tag, 'patterns': [' '.join(sentence.split()[:-1])], 'responses': []}\n",
    "            intents['intents'].append(intent)\n",
    "    all_words = remove_stopwords(all_words)\n",
    "    all_words = remove_punctuation(all_words)\n",
    "    all_words = list(set(all_words))\n",
    "    intents_list = [i['tag'] for i in intents['intents']]\n",
    "    training = []\n",
    "    output_empty = [0] * len(intents_list)\n",
    "    for intent in intents['intents']:\n",
    "        for pattern in intent['patterns']:\n",
    "            for intent in intents['intents']:\n",
    "                for pattern in intent['patterns']:\n",
    "                    training.append((bag_of_words(preprocess_sentence(pattern), all_words), intents_list.index(intent['tag'])))\n",
    "\n",
    "print(\"Chatbot: Habari, mimi ni chatbot. Unaweza kuniuliza maswali yoyote kuhusu Kilimo.\")\n",
    "while True:\n",
    "    user_input = input(\"You: \")\n",
    "    user_input = user_input.lower()\n",
    "    if user_input in ['quit', 'exit']:\n",
    "        break\n",
    "    response = get_response(intents, intents_list, all_words, model, user_input)\n",
    "    if response is None:\n",
    "        response = greet(user_input)\n",
    "    if response is None:\n",
    "        response = \"Samahani, siwezi kuelewa swali lako.\"\n",
    "    print(\"Chatbot:\", response)\n"
   ]
  }
 ],
 "metadata": {
  "kernelspec": {
   "display_name": "Python 3 (ipykernel)",
   "language": "python",
   "name": "python3"
  },
  "language_info": {
   "codemirror_mode": {
    "name": "ipython",
    "version": 3
   },
   "file_extension": ".py",
   "mimetype": "text/x-python",
   "name": "python",
   "nbconvert_exporter": "python",
   "pygments_lexer": "ipython3",
   "version": "3.9.13"
  }
 },
 "nbformat": 4,
 "nbformat_minor": 5
}
